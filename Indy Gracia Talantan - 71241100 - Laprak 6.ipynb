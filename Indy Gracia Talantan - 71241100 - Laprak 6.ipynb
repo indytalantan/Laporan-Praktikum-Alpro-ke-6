{
 "cells": [
  {
   "cell_type": "code",
   "execution_count": 23,
   "id": "db14107f-82b4-4a11-88d9-adb07971943b",
   "metadata": {},
   "outputs": [
    {
     "name": "stdin",
     "output_type": "stream",
     "text": [
      "Masukkan bilangan:  12\n"
     ]
    },
    {
     "name": "stdout",
     "output_type": "stream",
     "text": [
      "Bilangan prima terdekat < 12 adalah 11\n"
     ]
    }
   ],
   "source": [
    "#Latihan Mandiri 6.1\n",
    "def bilangan_prima(n):\n",
    "    if n < 2:\n",
    "        return False\n",
    "    for i in range(2, int(n ** 0.5) + 1):\n",
    "        if n % i == 0:\n",
    "            return False\n",
    "    return True\n",
    "\n",
    "def bilangan(n):\n",
    "    for i in range(n - 1, 1, -1):\n",
    "        if bilangan_prima(i):\n",
    "            return i\n",
    "    return None \n",
    "\n",
    "n = int(input(\"Masukkan bilangan: \"))\n",
    "nilai_terdekatnya = bilangan(n)\n",
    "\n",
    "if nilai_terdekatnya:\n",
    "    print(f\"Bilangan prima terdekat < {n} adalah {nilai_terdekatnya}\")\n",
    "else:\n",
    "    print(\"Tidak ada bilangan prima yang lebih kecil dari n.\")"
   ]
  },
  {
   "cell_type": "code",
   "execution_count": 25,
   "id": "f87218c1-fa4f-46f4-bb84-69ef07e5a10e",
   "metadata": {},
   "outputs": [
    {
     "name": "stdin",
     "output_type": "stream",
     "text": [
      "Jumlah Nilai n :  6\n"
     ]
    },
    {
     "name": "stdout",
     "output_type": "stream",
     "text": [
      "720 6 5 4 3 2 1 \n",
      "120 5 4 3 2 1 \n",
      "24 4 3 2 1 \n",
      "6 3 2 1 \n",
      "2 2 1 \n",
      "1 1 \n"
     ]
    }
   ],
   "source": [
    "#Latihan Mandiri 6.2\n",
    "def menampilkan_deret(nilai_n):\n",
    "    if nilai_n == 0 or nilai_n == 1:\n",
    "        return 1\n",
    "    else:\n",
    "        return nilai_n * menampilkan_deret(nilai_n - 1)\n",
    "\n",
    "nilai_n = int(input(\"Jumlah Nilai n : \"))\n",
    "\n",
    "for i in range(nilai_n, 0, -1):\n",
    "    faktorial = menampilkan_deret(i)\n",
    "    print(faktorial, end=\" \")\n",
    "    for j in range(i, 0, -1):\n",
    "        print(j, end=\" \")\n",
    "    print()"
   ]
  },
  {
   "cell_type": "code",
   "execution_count": 17,
   "id": "439b49be-45ef-44bb-8d1c-63c772d59d20",
   "metadata": {},
   "outputs": [
    {
     "name": "stdin",
     "output_type": "stream",
     "text": [
      "Tinggi :  5\n",
      "Lebar :  4\n"
     ]
    },
    {
     "name": "stdout",
     "output_type": "stream",
     "text": [
      "1 2 3 4 \n",
      "5 6 7 8 \n",
      "9 10 11 12 \n",
      "13 14 15 16 \n",
      "17 18 19 20 \n"
     ]
    }
   ],
   "source": [
    "#Latihan Mandiri 6.3\n",
    "jumlah_tinggi = int(input(\"Tinggi : \"))\n",
    "jumlah_lebar = int(input(\"Lebar : \"))\n",
    "\n",
    "nilai_n = 1\n",
    "\n",
    "for i in range(jumlah_tinggi):\n",
    "    for j in range(jumlah_lebar):\n",
    "        print(nilai_n, end=\" \")\n",
    "        nilai_n += 1\n",
    "    print() "
   ]
  },
  {
   "cell_type": "code",
   "execution_count": null,
   "id": "d66d5578-557d-4386-9847-34c6000317f9",
   "metadata": {},
   "outputs": [],
   "source": []
  }
 ],
 "metadata": {
  "kernelspec": {
   "display_name": "Python [conda env:base] *",
   "language": "python",
   "name": "conda-base-py"
  },
  "language_info": {
   "codemirror_mode": {
    "name": "ipython",
    "version": 3
   },
   "file_extension": ".py",
   "mimetype": "text/x-python",
   "name": "python",
   "nbconvert_exporter": "python",
   "pygments_lexer": "ipython3",
   "version": "3.12.7"
  }
 },
 "nbformat": 4,
 "nbformat_minor": 5
}
